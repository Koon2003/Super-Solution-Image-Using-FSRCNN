{
 "cells": [
  {
   "cell_type": "code",
   "execution_count": 1,
   "metadata": {},
   "outputs": [],
   "source": [
    "from PIL import Image\n",
    "import os"
   ]
  },
  {
   "cell_type": "code",
   "execution_count": 11,
   "metadata": {},
   "outputs": [],
   "source": [
    "def downscale_images_in_folder(input_folder, output_folder, scale=4):\n",
    "    os.makedirs(output_folder, exist_ok=True)\n",
    "\n",
    "    for file_name in os.listdir(input_folder):\n",
    "        input_path = os.path.join(input_folder, file_name)\n",
    "\n",
    "        if os.path.isfile(input_path) and file_name.lower().endswith(('.png', '.jpg', '.jpeg', '.bmp', '.tiff')):\n",
    "            try:\n",
    "                # Mở ảnh và giảm độ phân giải\n",
    "                with Image.open(input_path) as img:\n",
    "                    original_size = img.size\n",
    "                    new_size = (original_size[0] // scale, original_size[1] // scale)\n",
    "                    downscaled_img = img.resize(new_size, Image.Resampling.LANCZOS)\n",
    "\n",
    "                    # Lưu ảnh vào thư mục đầu ra\n",
    "                    output_path = os.path.join(output_folder, f\"downscaled_{file_name}\")\n",
    "                    downscaled_img.save(output_path)\n",
    "                    print(f\"Đã xử lý: {file_name} -> {output_path}\")\n",
    "\n",
    "            except Exception as e:\n",
    "                print(f\"Lỗi khi xử lý file {file_name}: {e}\")\n",
    "        else:\n",
    "            print(f\"Bỏ qua file không phải ảnh: {file_name}\")\n",
    "\n",
    "    print(f\"Đã xử lý xong tất cả các ảnh trong thư mục: {input_folder}\")"
   ]
  },
  {
   "cell_type": "code",
   "execution_count": 12,
   "metadata": {},
   "outputs": [
    {
     "name": "stdout",
     "output_type": "stream",
     "text": [
      "Đã xử lý: 0010.png -> dataset/downscale_img\\downscaled_0010.png\n",
      "Đã xử lý: 0039.png -> dataset/downscale_img\\downscaled_0039.png\n",
      "Đã xử lý: 0801.png -> dataset/downscale_img\\downscaled_0801.png\n",
      "Đã xử lý: 0825.png -> dataset/downscale_img\\downscaled_0825.png\n",
      "Đã xử lý: 0826.png -> dataset/downscale_img\\downscaled_0826.png\n",
      "Đã xử lý: 0831.png -> dataset/downscale_img\\downscaled_0831.png\n",
      "Đã xử lý: 0873.png -> dataset/downscale_img\\downscaled_0873.png\n",
      "Đã xử lý: 0880.png -> dataset/downscale_img\\downscaled_0880.png\n",
      "Đã xử lý: 0888.png -> dataset/downscale_img\\downscaled_0888.png\n",
      "Đã xử lý: 1.jpg -> dataset/downscale_img\\downscaled_1.jpg\n",
      "Đã xử lý: 20.jpg -> dataset/downscale_img\\downscaled_20.jpg\n",
      "Đã xử lý: 220.jpg -> dataset/downscale_img\\downscaled_220.jpg\n",
      "Đã xử lý: 30.jpg -> dataset/downscale_img\\downscaled_30.jpg\n",
      "Đã xử lý: 300.jpg -> dataset/downscale_img\\downscaled_300.jpg\n",
      "Đã xử lý: pig.jpg -> dataset/downscale_img\\downscaled_pig.jpg\n",
      "Đã xử lý: qua_bong.jpg -> dataset/downscale_img\\downscaled_qua_bong.jpg\n",
      "Đã xử lý: t59.png -> dataset/downscale_img\\downscaled_t59.png\n",
      "Đã xử lý: t60.png -> dataset/downscale_img\\downscaled_t60.png\n",
      "Đã xử lý: tt22.png -> dataset/downscale_img\\downscaled_tt22.png\n",
      "Đã xử lý: tt23.png -> dataset/downscale_img\\downscaled_tt23.png\n",
      "Đã xử lý xong tất cả các ảnh trong thư mục: dataset/test\n"
     ]
    }
   ],
   "source": [
    "input_directory = \"dataset/test\"  # Đường dẫn tới ảnh đầu vào\n",
    "output_directory = \"dataset/downscale_img\"  # Thư mục lưu ảnh đầu ra\n",
    "\n",
    "downscale_images_in_folder(input_directory, output_directory)"
   ]
  }
 ],
 "metadata": {
  "kernelspec": {
   "display_name": "Python 3",
   "language": "python",
   "name": "python3"
  },
  "language_info": {
   "codemirror_mode": {
    "name": "ipython",
    "version": 3
   },
   "file_extension": ".py",
   "mimetype": "text/x-python",
   "name": "python",
   "nbconvert_exporter": "python",
   "pygments_lexer": "ipython3",
   "version": "3.10.7"
  }
 },
 "nbformat": 4,
 "nbformat_minor": 2
}
